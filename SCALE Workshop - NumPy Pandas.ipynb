{
 "cells": [
  {
   "cell_type": "markdown",
   "metadata": {},
   "source": [
    "# Notes\n",
    "- Bokeh, Qt - other graphics packages for python\n",
    "- https://github.com/scalesd\n",
    "- Rick"
   ]
  },
  {
   "cell_type": "markdown",
   "metadata": {},
   "source": [
    "# A Brief Intro to NumPy\n",
    "\n",
    "## What is NumPy?\n",
    "NumPy is a python library that makes it easier to work with numerical algorithms in python.\n",
    "\n",
    "## Why do we want to use NumPy for working with data?\n",
    "NumPy makes it easy to perform operations on the scale of _N-d arrays_ of data.\n",
    "\n",
    "### Example 1: Adding one to every element of the list"
   ]
  },
  {
   "cell_type": "markdown",
   "metadata": {},
   "source": [
    "First, we make a list with `n_lst` sequential integers"
   ]
  },
  {
   "cell_type": "code",
   "execution_count": 1,
   "metadata": {},
   "outputs": [
    {
     "name": "stdout",
     "output_type": "stream",
     "text": [
      "[0, 1, 2, 3, 4, 5, 6, 7, 8, 9, 10]\n"
     ]
    }
   ],
   "source": [
    "n_lst = 11\n",
    "lst = list(range(n_lst))\n",
    "\n",
    "print(lst)"
   ]
  },
  {
   "cell_type": "markdown",
   "metadata": {},
   "source": [
    "Then add one to each element the straightforward way, with a loop."
   ]
  },
  {
   "cell_type": "code",
   "execution_count": 2,
   "metadata": {},
   "outputs": [
    {
     "name": "stdout",
     "output_type": "stream",
     "text": [
      "[1, 2, 3, 4, 5, 6, 7, 8, 9, 10, 11]\n"
     ]
    }
   ],
   "source": [
    "augListClassic = lst.copy()\n",
    "for i in range(len(lst)):\n",
    "    augListClassic[i] += 1\n",
    "    \n",
    "print(augListClassic)"
   ]
  },
  {
   "cell_type": "markdown",
   "metadata": {},
   "source": [
    "In Python we can do this in several different ways, e.g. using a list comprehension:"
   ]
  },
  {
   "cell_type": "code",
   "execution_count": 3,
   "metadata": {},
   "outputs": [
    {
     "name": "stdout",
     "output_type": "stream",
     "text": [
      "[1, 2, 3, 4, 5, 6, 7, 8, 9, 10, 11]\n"
     ]
    }
   ],
   "source": [
    "augListComprehension = [x+1 for x in lst]\n",
    "\n",
    "print(augListComprehension)"
   ]
  },
  {
   "cell_type": "markdown",
   "metadata": {},
   "source": [
    "NumPy allows us to implicitly perform operations \"entry-wise\" on entire arrays as if these arrays were values"
   ]
  },
  {
   "cell_type": "code",
   "execution_count": 4,
   "metadata": {},
   "outputs": [
    {
     "name": "stdout",
     "output_type": "stream",
     "text": [
      "[ 1  2  3  4  5  6  7  8  9 10 11]\n"
     ]
    }
   ],
   "source": [
    "# When we use Numpy, we need to import the module first. \n",
    "# We give it the alias \"np\" which is fairly common.\n",
    "import numpy as np \n",
    "\n",
    "# We will copy our python list into a Numpy \"array\" data structure.\n",
    "npArry = np.array(lst)\n",
    "augNpArry = npArry + 1\n",
    "\n",
    "print(augNpArry)"
   ]
  },
  {
   "cell_type": "markdown",
   "metadata": {},
   "source": [
    "### Example 2:  Indexing Modes\n",
    "Note that Jupyter maintains the state of the underlying python environment, i.e. libraries as well as variables, are maintained across cells. So we don't need to import NumPy again unless we restart the notebook.\n",
    "\n",
    "In the first part of this example, we will make a \"triangle\" out of our earlier [1,11] list, and explore some of the \"indexing modes\" available in  NumPy.\n",
    "\n",
    "First, the \"vanilla\" Python way."
   ]
  },
  {
   "cell_type": "code",
   "execution_count": 5,
   "metadata": {},
   "outputs": [
    {
     "name": "stdout",
     "output_type": "stream",
     "text": [
      "[0, 1, 2, 3, 4, 5, 4, 3, 2, 1, 0]\n"
     ]
    }
   ],
   "source": [
    "lstTri = lst.copy()\n",
    "for i in range(len(lst)):\n",
    "    if lst[i] > 5:\n",
    "        lstTri[i] = 10-lst[i]\n",
    "        \n",
    "print(lstTri)"
   ]
  },
  {
   "cell_type": "markdown",
   "metadata": {},
   "source": [
    "You can index NumPy arrays just like Python lists, and just like in Python, in NumPy this is called _slicing_. For an array, `<array name>[<start>:<end>:<stride>]` will give you access to the array values beginning at index `<start>`, steping by length `<stride>` and ending (but not including!) index `<end>`. As a shortcut if you want to start from index `0`, end at the end of the array, or have a stride length of `1`, you can just leave them out. \n",
    "\n",
    "Here's an few examples,"
   ]
  },
  {
   "cell_type": "code",
   "execution_count": 6,
   "metadata": {},
   "outputs": [
    {
     "name": "stdout",
     "output_type": "stream",
     "text": [
      "[ 0  1  2  3  4  5  6  7  8  9 10]\n",
      "[2 4 6 8]\n",
      "[ 2  4  6  8 10]\n",
      "[0 1 2 3]\n",
      "[ 7  8  9 10]\n",
      "[10  9  8  7  6  5  4  3  2  1  0]\n"
     ]
    }
   ],
   "source": [
    "print(npArry) # Just print the whole array for comparison\n",
    "print(npArry[2:10:2]) # Print even numbers starting from the 3rd index\n",
    "print(npArry[2::2]) # Shortcut, this does the same thing (because our list has length 11)\n",
    "print(npArry[:4]) # The first 4 entries\n",
    "print(npArry[-4:]) # The last 4 entries\n",
    "print(npArry[::-1]) # Reverse the array"
   ]
  },
  {
   "cell_type": "markdown",
   "metadata": {},
   "source": [
    "Next we'll do an \"Triangular\" example that we will use to introduce some more advanced indexing strategies. First, by slicing:"
   ]
  },
  {
   "cell_type": "code",
   "execution_count": 7,
   "metadata": {},
   "outputs": [
    {
     "name": "stdout",
     "output_type": "stream",
     "text": [
      "Sub-array we're working with: [ 6  7  8  9 10]\n",
      "Result: [0 1 2 3 4 5 4 3 2 1 0]\n"
     ]
    }
   ],
   "source": [
    "npArryTri = npArry.copy()\n",
    "# Start from index 6 and go to the end\n",
    "npArryTri[6:] = 10-npArry[6:] \n",
    "\n",
    "print(\"Sub-array we're working with:\", npArry[6:])\n",
    "print('Result:', npArryTri)"
   ]
  },
  {
   "cell_type": "markdown",
   "metadata": {},
   "source": [
    "NumPy also offers many array indexing methods that allow you to access entries by their _values_. This is extremely useful when, for example, selecting subsets of data when you don't know where they are in the array, but you know what they look like. \n",
    "\n",
    "We will first create a \"logical array\" -- an array of Boolean `True`/`False` values that is the _same length_ original array -- that is set to `True` at the indices that we are going to operate on. The great thing is that we can use NumPy's entry-wise operations to do this."
   ]
  },
  {
   "cell_type": "code",
   "execution_count": 8,
   "metadata": {},
   "outputs": [
    {
     "name": "stdout",
     "output_type": "stream",
     "text": [
      "Index vector:  [False False False False False False  True  True  True  True  True]\n",
      "Sub-array we're working with: [ 6  7  8  9 10]\n",
      "Result: [0 1 2 3 4 5 4 3 2 1 0]\n"
     ]
    }
   ],
   "source": [
    "npArryTriBool = npArry.copy()\n",
    "# Create a logical index vector that is True for the indices we want to operate on\n",
    "idx = npArry > 5\n",
    "# Use the index vector to select the sub-array we would like to work with, \n",
    "# and subtract all entries of the sub-array from 10 in a single line\n",
    "npArryTriBool[idx] = 10-npArry[idx] \n",
    "\n",
    "print('Index vector: ', idx)\n",
    "print(\"Sub-array we're working with:\", npArry[idx])\n",
    "print('Result:', npArryTriBool)"
   ]
  },
  {
   "cell_type": "markdown",
   "metadata": {},
   "source": [
    "Next we're going to look at a multiple numerical indexing, using NumPy's `where` function."
   ]
  },
  {
   "cell_type": "code",
   "execution_count": 9,
   "metadata": {},
   "outputs": [
    {
     "name": "stdout",
     "output_type": "stream",
     "text": [
      "Index vector:  [ 6  7  8  9 10]\n",
      "Sub-array we're working with: [ 6  7  8  9 10]\n",
      "Result: [0 1 2 3 4 5 4 3 2 1 0]\n"
     ]
    }
   ],
   "source": [
    "npArryTriNIdx = npArry.copy()\n",
    "# This next line is the difference (np.where returns a tuple -- it's a very flexible function)\n",
    "idx = np.where(npArry > 5)[0]\n",
    "npArryTriNIdx[idx] = 10-npArry[idx] \n",
    "\n",
    "print('Index vector: ', idx)\n",
    "print(\"Sub-array we're working with:\", npArry[idx])\n",
    "print('Result:', npArryTriNIdx)"
   ]
  },
  {
   "cell_type": "markdown",
   "metadata": {},
   "source": [
    "Using numerical indexing, we don't have to have a list that is the same length, and we can freely _reorder_ the indices of the index list according to permutations."
   ]
  },
  {
   "cell_type": "code",
   "execution_count": 10,
   "metadata": {},
   "outputs": [
    {
     "name": "stdout",
     "output_type": "stream",
     "text": [
      "Result: [0 1 2 3 4 5 0 1 2 3 4]\n"
     ]
    }
   ],
   "source": [
    "npArrySawtooth = npArry.copy()\n",
    "# Select like we did before\n",
    "idx = np.where(npArry > 5)[0]\n",
    "# Reverse the indices for assignment\n",
    "npArrySawtooth[idx[::-1]] = 10-npArry[idx] \n",
    "print('Result:', npArrySawtooth)"
   ]
  },
  {
   "cell_type": "markdown",
   "metadata": {},
   "source": [
    "### Example 2.5: Making useful test cases "
   ]
  },
  {
   "cell_type": "markdown",
   "metadata": {},
   "source": [
    "It is often very helpful to generate small test examples first, before performing operations on real data. Software engineers call this \"test-driven development\" and you'll make a lot fewer headaches for yourself if you get into the habit of testing each step of your data visualization and analysis.\n",
    "\n",
    "So first, we'll make a matrix that we can use for the demo. I want this matrix to have recognizable, but different, values in each row and column so that we can see what we did. This means a matrix of all the same value, or random values won't work because I won't be able to _easily_ tell what happened.\n",
    "\n",
    "We're going to use the NumPy function `meshgrid` for this. `meshgrid` generates a pair of matrices, let's call them X and Y, that together form the coordiantes of a \"mesh\". In addition to how we'll use it, it is also useful for 3-d plotting, and specifying points on a grid.\n",
    "\n",
    "Step 1) use the NumPy function `meshgrid` to generate a pair of matrices with repeating columns and rows."
   ]
  },
  {
   "cell_type": "code",
   "execution_count": 11,
   "metadata": {},
   "outputs": [
    {
     "name": "stdout",
     "output_type": "stream",
     "text": [
      "X:\n",
      " [[0 1 2 3]\n",
      " [0 1 2 3]\n",
      " [0 1 2 3]\n",
      " [0 1 2 3]]\n",
      "\n",
      "Y:\n",
      " [[0 0 0 0]\n",
      " [1 1 1 1]\n",
      " [2 2 2 2]\n",
      " [3 3 3 3]]\n"
     ]
    }
   ],
   "source": [
    "X, Y = np.meshgrid(range(4),range(4))\n",
    "\n",
    "print('X:\\n', X)\n",
    "print()\n",
    "print('Y:\\n', Y)"
   ]
  },
  {
   "cell_type": "markdown",
   "metadata": {},
   "source": [
    "Step 2) Add these matrices together, element-by-element."
   ]
  },
  {
   "cell_type": "code",
   "execution_count": 12,
   "metadata": {},
   "outputs": [
    {
     "name": "stdout",
     "output_type": "stream",
     "text": [
      "XpY:\n",
      " [[0 1 2 3]\n",
      " [1 2 3 4]\n",
      " [2 3 4 5]\n",
      " [3 4 5 6]]\n"
     ]
    }
   ],
   "source": [
    "XpY = X + Y\n",
    "\n",
    "print('XpY:\\n', XpY)"
   ]
  },
  {
   "cell_type": "markdown",
   "metadata": {},
   "source": [
    "Step 3) This almost meets our criteria, but we want to make sure we can differentiate rows from columns (right now, row `i` equals column `i`). To fix this, we'll flip it over, left-to-right using `fliplr`."
   ]
  },
  {
   "cell_type": "code",
   "execution_count": 13,
   "metadata": {},
   "outputs": [
    {
     "name": "stdout",
     "output_type": "stream",
     "text": [
      "npNdArry:\n",
      " [[3 2 1 0]\n",
      " [4 3 2 1]\n",
      " [5 4 3 2]\n",
      " [6 5 4 3]]\n"
     ]
    }
   ],
   "source": [
    "npNdArry = np.fliplr(XpY)\n",
    "\n",
    "print('npNdArry:\\n', npNdArry)"
   ]
  },
  {
   "cell_type": "markdown",
   "metadata": {},
   "source": [
    "Element-wise operations won't work if matrices aren't the same shape. \n",
    "\n",
    "Determine array shapes with the `shape` field of the array object."
   ]
  },
  {
   "cell_type": "code",
   "execution_count": 14,
   "metadata": {},
   "outputs": [
    {
     "name": "stdout",
     "output_type": "stream",
     "text": [
      "Shape of Y: (4, 4)\n"
     ]
    }
   ],
   "source": [
    "print('Shape of Y:', Y.shape)"
   ]
  },
  {
   "cell_type": "markdown",
   "metadata": {},
   "source": [
    "Many times you'll find yourself wanting to generate your test cases again, so it can be handy to wrap them in functions.\n",
    "\n",
    "Note that functions persist in the Jupyter notebook just like variables, until you restart the notebook."
   ]
  },
  {
   "cell_type": "code",
   "execution_count": 15,
   "metadata": {},
   "outputs": [],
   "source": [
    "def make_test_matrix(size=4):\n",
    "    \"\"\"\n",
    "    Generate a size X size square matrix for testing operations.\n",
    "    size defaults to 4\n",
    "    \"\"\"\n",
    "    X, Y = np.meshgrid(range(size),range(size))\n",
    "    XpY = X + Y\n",
    "    npNdArry = np.fliplr(XpY)\n",
    "    \n",
    "    return npNdArry"
   ]
  },
  {
   "cell_type": "markdown",
   "metadata": {},
   "source": [
    "### Example 3: Multidimensional array indexing\n",
    "Pull out a \"view\" of the first column"
   ]
  },
  {
   "cell_type": "code",
   "execution_count": 16,
   "metadata": {},
   "outputs": [
    {
     "name": "stdout",
     "output_type": "stream",
     "text": [
      "[3 4 5 6]\n"
     ]
    }
   ],
   "source": [
    "firstCol = npNdArry[:,0]\n",
    "\n",
    "print(firstCol)"
   ]
  },
  {
   "cell_type": "markdown",
   "metadata": {},
   "source": [
    "What do I mean by \"view\"?"
   ]
  },
  {
   "cell_type": "code",
   "execution_count": 17,
   "metadata": {},
   "outputs": [
    {
     "name": "stdout",
     "output_type": "stream",
     "text": [
      "npNdArry:\n",
      " [[1000    2    1    0]\n",
      " [   4    3    2    1]\n",
      " [   5    4    3    2]\n",
      " [   6    5    4    3]]\n"
     ]
    }
   ],
   "source": [
    "firstCol[0] = 1000\n",
    "\n",
    "print('npNdArry:\\n', npNdArry)"
   ]
  },
  {
   "cell_type": "markdown",
   "metadata": {},
   "source": [
    "By default, indexing operations on Numpy arrays return references to the original data in memory. In order to make a copy, you must explicitly call the `copy()` function, as we did before with python lists. This is internally consistent with how Python treats objects in general (by-reference object handling).\n"
   ]
  },
  {
   "cell_type": "markdown",
   "metadata": {},
   "source": [
    "Pull out a view of the first row"
   ]
  },
  {
   "cell_type": "code",
   "execution_count": 18,
   "metadata": {},
   "outputs": [
    {
     "name": "stdout",
     "output_type": "stream",
     "text": [
      "[1000    2    1    0]\n"
     ]
    }
   ],
   "source": [
    "firstRow = npNdArry[0,:]\n",
    "\n",
    "print(firstRow)"
   ]
  },
  {
   "cell_type": "markdown",
   "metadata": {},
   "source": [
    "The intuitions we developed before work the same way on N-d arrays"
   ]
  },
  {
   "cell_type": "code",
   "execution_count": 19,
   "metadata": {},
   "outputs": [
    {
     "name": "stdout",
     "output_type": "stream",
     "text": [
      "npNdArry:\n",
      " [[0 2 1 0]\n",
      " [0 3 2 1]\n",
      " [0 0 3 2]\n",
      " [0 0 0 3]]\n"
     ]
    }
   ],
   "source": [
    "npNdArry[npNdArry > 3] = 0\n",
    "\n",
    "print('npNdArry:\\n', npNdArry)"
   ]
  },
  {
   "cell_type": "markdown",
   "metadata": {},
   "source": [
    "We can realize complex operations easily using this syntax.\n",
    "\n",
    "E.g. set every element to -1 of each row with where the last element is 2 or 0"
   ]
  },
  {
   "cell_type": "code",
   "execution_count": 20,
   "metadata": {},
   "outputs": [
    {
     "name": "stdout",
     "output_type": "stream",
     "text": [
      "npNdArry:\n",
      " [[-1 -1 -1 -1]\n",
      " [ 0  3  2  1]\n",
      " [-1 -1 -1 -1]\n",
      " [ 0  0  0  3]]\n"
     ]
    }
   ],
   "source": [
    "last = npNdArry[:,-1]\n",
    "npNdArry[(last == 2) | (last == 0),:] = -1\n",
    "\n",
    "print('npNdArry:\\n', npNdArry)"
   ]
  },
  {
   "cell_type": "markdown",
   "metadata": {},
   "source": [
    "Let's reset our matrix"
   ]
  },
  {
   "cell_type": "code",
   "execution_count": 21,
   "metadata": {},
   "outputs": [
    {
     "name": "stdout",
     "output_type": "stream",
     "text": [
      "npNdArry:\n",
      " [[3 2 1 0]\n",
      " [4 3 2 1]\n",
      " [5 4 3 2]\n",
      " [6 5 4 3]]\n"
     ]
    }
   ],
   "source": [
    "npNdArry = make_test_matrix()\n",
    "\n",
    "print('npNdArry:\\n', npNdArry)"
   ]
  },
  {
   "cell_type": "markdown",
   "metadata": {},
   "source": [
    "We're going to shuffle the rows at random using `permutation()` from NumPy's `random` module."
   ]
  },
  {
   "cell_type": "code",
   "execution_count": 22,
   "metadata": {},
   "outputs": [
    {
     "name": "stdout",
     "output_type": "stream",
     "text": [
      "[3 2 1 0]\n"
     ]
    }
   ],
   "source": [
    "shuffledIdx = np.random.permutation(npNdArry.shape[0])\n",
    "\n",
    "print(shuffledIdx)"
   ]
  },
  {
   "cell_type": "markdown",
   "metadata": {},
   "source": [
    "We're going to use this permutation to reorder the matrix rows.\n",
    "\n",
    "Note that we wouldn't be able to shuffle like this with logical indexing alone."
   ]
  },
  {
   "cell_type": "code",
   "execution_count": 23,
   "metadata": {},
   "outputs": [
    {
     "name": "stdout",
     "output_type": "stream",
     "text": [
      "npNdArryShuffled:\n",
      " [[6 5 4 3]\n",
      " [5 4 3 2]\n",
      " [4 3 2 1]\n",
      " [3 2 1 0]]\n"
     ]
    }
   ],
   "source": [
    "npNdArryShuffled = npNdArry[shuffledIdx,:]\n",
    "\n",
    "print('npNdArryShuffled:\\n', npNdArryShuffled)"
   ]
  },
  {
   "cell_type": "markdown",
   "metadata": {},
   "source": [
    "### Example 4: Vectorized operations"
   ]
  },
  {
   "cell_type": "markdown",
   "metadata": {},
   "source": [
    "Use the `np.vectorize` function to turn a function of a single variable into one that applies a function to every element of an array. This is similar to a list comprehension or Python's native `map()`, but is easier to use when working with Numpy N-d arrays.\n",
    "\n",
    "Note that `vectorize` doesn't make your code faster! A function applied over 100 elements will take 100 times as long.\n",
    "\n",
    "We're going to create a function that converts numeric arrays into their (zero-indexed) alphabetical equivalent."
   ]
  },
  {
   "cell_type": "code",
   "execution_count": 24,
   "metadata": {},
   "outputs": [],
   "source": [
    "convertToABC = np.vectorize(lambda x: chr(x+65))"
   ]
  },
  {
   "cell_type": "code",
   "execution_count": 25,
   "metadata": {},
   "outputs": [
    {
     "name": "stdout",
     "output_type": "stream",
     "text": [
      "npNdArryABC:\n",
      " [['D' 'C' 'B' 'A']\n",
      " ['E' 'D' 'C' 'B']\n",
      " ['F' 'E' 'D' 'C']\n",
      " ['G' 'F' 'E' 'D']]\n"
     ]
    }
   ],
   "source": [
    "npNdArryABC = convertToABC(npNdArry)\n",
    "\n",
    "print('npNdArryABC:\\n', npNdArryABC)"
   ]
  },
  {
   "cell_type": "markdown",
   "metadata": {},
   "source": [
    "# Now for a little bit of Pandas "
   ]
  },
  {
   "cell_type": "markdown",
   "metadata": {},
   "source": [
    "Pandas is a _high level_ library for working with data. Where NumPy is a tool for developing numerical algorithms, Pandas is great for working with data at the `DataFrame` level, and functions much like a relational database front-end.\n",
    "\n",
    "To see what we mean here, first we're going to load some of the San Diego parking data into a Pandas `DataFrame` object (we're only going to take a small region, on account of the size data files).\n",
    "\n",
    "You can read more about the various formats Pandas can read and write (there are many, including the system clipboard!) at the [Pandas IO Tools Documentation](https://pandas.pydata.org/pandas-docs/stable/io.html).\n",
    "\n",
    "We're going to cover a few basics that will enable us to start working with the parking data rather quickly, but be sure to take a look at the [Fast Tutorial](https://pandas.pydata.org/pandas-docs/stable/10min.html) on the Pandas website (they say 10 min, I would set aside a bit more time than that)."
   ]
  },
  {
   "cell_type": "code",
   "execution_count": 26,
   "metadata": {},
   "outputs": [
    {
     "name": "stdout",
     "output_type": "stream",
     "text": [
      "Rows 478138 : Cols 15\n"
     ]
    }
   ],
   "source": [
    "dataPath = './'\n",
    "dataFile = dataPath + 'subregion.csv'\n",
    "\n",
    "import pandas as pd\n",
    "\n",
    "# Read the csv file into a DataFrame\n",
    "df = pd.read_csv(dataFile)\n",
    "\n",
    "# Let's see how many transactions records we've pulled in\n",
    "print('Rows',df.shape[0],': Cols',df.shape[1])"
   ]
  },
  {
   "cell_type": "markdown",
   "metadata": {},
   "source": [
    "We can view the top few rows of the DataFrame using the `head()` function\n",
    "\n",
    "Let's take a few seconds to look at what we're dealing with."
   ]
  },
  {
   "cell_type": "code",
   "execution_count": 27,
   "metadata": {},
   "outputs": [
    {
     "name": "stdout",
     "output_type": "stream",
     "text": [
      "    id                     uuid  pole_id meter_type  trans_amt   pay_method  \\\n",
      "0   79  MSKT700W160101080515675  KT-700W         MS      675.0  CREDIT CARD   \n",
      "1  119  MSKT700W160101084910675  KT-700W         MS      675.0  CREDIT CARD   \n",
      "2  128  MSKT700W160101085540675  KT-700W         MS      675.0  CREDIT CARD   \n",
      "3  188  MSKT700W160101093348650  KT-700W         MS      650.0  CREDIT CARD   \n",
      "4  190  MSKT700W160101093634650  KT-700W         MS      650.0  CREDIT CARD   \n",
      "\n",
      "           trans_start         meter_expire      zone    area  \\\n",
      "0  2016-01-01 08:05:15  2016-01-01 17:05:15  Downtown  Marina   \n",
      "1  2016-01-01 08:49:10  2016-01-01 17:49:10  Downtown  Marina   \n",
      "2  2016-01-01 08:55:40  2016-01-01 17:55:40  Downtown  Marina   \n",
      "3  2016-01-01 09:33:48  2016-01-01 18:00:00  Downtown  Marina   \n",
      "4  2016-01-01 09:36:34  2016-01-01 18:00:00  Downtown  Marina   \n",
      "\n",
      "           sub_area  config_id                               config_name  \\\n",
      "0  700 KETTNER BLVD      13177  MSPM 9 Hour Max $0.75 HR 8am-6pm Mon-Sat   \n",
      "1  700 KETTNER BLVD      13177  MSPM 9 Hour Max $0.75 HR 8am-6pm Mon-Sat   \n",
      "2  700 KETTNER BLVD      13177  MSPM 9 Hour Max $0.75 HR 8am-6pm Mon-Sat   \n",
      "3  700 KETTNER BLVD      13177  MSPM 9 Hour Max $0.75 HR 8am-6pm Mon-Sat   \n",
      "4  700 KETTNER BLVD      13177  MSPM 9 Hour Max $0.75 HR 8am-6pm Mon-Sat   \n",
      "\n",
      "    longitude   latitude  \n",
      "0 -117.169281  32.713603  \n",
      "1 -117.169281  32.713603  \n",
      "2 -117.169281  32.713603  \n",
      "3 -117.169281  32.713603  \n",
      "4 -117.169281  32.713603  \n"
     ]
    }
   ],
   "source": [
    "print(df.head())"
   ]
  },
  {
   "cell_type": "markdown",
   "metadata": {},
   "source": [
    "Jupyter is \"DataFrame aware\" and will pretty-print them for you without the `print` function. `head(<number of rows>)` is also a valid call, and does what you expect (as does `.tail()`)."
   ]
  },
  {
   "cell_type": "code",
   "execution_count": 28,
   "metadata": {},
   "outputs": [
    {
     "data": {
      "text/html": [
       "<div>\n",
       "<style scoped>\n",
       "    .dataframe tbody tr th:only-of-type {\n",
       "        vertical-align: middle;\n",
       "    }\n",
       "\n",
       "    .dataframe tbody tr th {\n",
       "        vertical-align: top;\n",
       "    }\n",
       "\n",
       "    .dataframe thead th {\n",
       "        text-align: right;\n",
       "    }\n",
       "</style>\n",
       "<table border=\"1\" class=\"dataframe\">\n",
       "  <thead>\n",
       "    <tr style=\"text-align: right;\">\n",
       "      <th></th>\n",
       "      <th>id</th>\n",
       "      <th>uuid</th>\n",
       "      <th>pole_id</th>\n",
       "      <th>meter_type</th>\n",
       "      <th>trans_amt</th>\n",
       "      <th>pay_method</th>\n",
       "      <th>trans_start</th>\n",
       "      <th>meter_expire</th>\n",
       "      <th>zone</th>\n",
       "      <th>area</th>\n",
       "      <th>sub_area</th>\n",
       "      <th>config_id</th>\n",
       "      <th>config_name</th>\n",
       "      <th>longitude</th>\n",
       "      <th>latitude</th>\n",
       "    </tr>\n",
       "  </thead>\n",
       "  <tbody>\n",
       "    <tr>\n",
       "      <th>0</th>\n",
       "      <td>79</td>\n",
       "      <td>MSKT700W160101080515675</td>\n",
       "      <td>KT-700W</td>\n",
       "      <td>MS</td>\n",
       "      <td>675.0</td>\n",
       "      <td>CREDIT CARD</td>\n",
       "      <td>2016-01-01 08:05:15</td>\n",
       "      <td>2016-01-01 17:05:15</td>\n",
       "      <td>Downtown</td>\n",
       "      <td>Marina</td>\n",
       "      <td>700 KETTNER BLVD</td>\n",
       "      <td>13177</td>\n",
       "      <td>MSPM 9 Hour Max $0.75 HR 8am-6pm Mon-Sat</td>\n",
       "      <td>-117.169281</td>\n",
       "      <td>32.713603</td>\n",
       "    </tr>\n",
       "    <tr>\n",
       "      <th>1</th>\n",
       "      <td>119</td>\n",
       "      <td>MSKT700W160101084910675</td>\n",
       "      <td>KT-700W</td>\n",
       "      <td>MS</td>\n",
       "      <td>675.0</td>\n",
       "      <td>CREDIT CARD</td>\n",
       "      <td>2016-01-01 08:49:10</td>\n",
       "      <td>2016-01-01 17:49:10</td>\n",
       "      <td>Downtown</td>\n",
       "      <td>Marina</td>\n",
       "      <td>700 KETTNER BLVD</td>\n",
       "      <td>13177</td>\n",
       "      <td>MSPM 9 Hour Max $0.75 HR 8am-6pm Mon-Sat</td>\n",
       "      <td>-117.169281</td>\n",
       "      <td>32.713603</td>\n",
       "    </tr>\n",
       "    <tr>\n",
       "      <th>2</th>\n",
       "      <td>128</td>\n",
       "      <td>MSKT700W160101085540675</td>\n",
       "      <td>KT-700W</td>\n",
       "      <td>MS</td>\n",
       "      <td>675.0</td>\n",
       "      <td>CREDIT CARD</td>\n",
       "      <td>2016-01-01 08:55:40</td>\n",
       "      <td>2016-01-01 17:55:40</td>\n",
       "      <td>Downtown</td>\n",
       "      <td>Marina</td>\n",
       "      <td>700 KETTNER BLVD</td>\n",
       "      <td>13177</td>\n",
       "      <td>MSPM 9 Hour Max $0.75 HR 8am-6pm Mon-Sat</td>\n",
       "      <td>-117.169281</td>\n",
       "      <td>32.713603</td>\n",
       "    </tr>\n",
       "  </tbody>\n",
       "</table>\n",
       "</div>"
      ],
      "text/plain": [
       "    id                     uuid  pole_id meter_type  trans_amt   pay_method  \\\n",
       "0   79  MSKT700W160101080515675  KT-700W         MS      675.0  CREDIT CARD   \n",
       "1  119  MSKT700W160101084910675  KT-700W         MS      675.0  CREDIT CARD   \n",
       "2  128  MSKT700W160101085540675  KT-700W         MS      675.0  CREDIT CARD   \n",
       "\n",
       "           trans_start         meter_expire      zone    area  \\\n",
       "0  2016-01-01 08:05:15  2016-01-01 17:05:15  Downtown  Marina   \n",
       "1  2016-01-01 08:49:10  2016-01-01 17:49:10  Downtown  Marina   \n",
       "2  2016-01-01 08:55:40  2016-01-01 17:55:40  Downtown  Marina   \n",
       "\n",
       "           sub_area  config_id                               config_name  \\\n",
       "0  700 KETTNER BLVD      13177  MSPM 9 Hour Max $0.75 HR 8am-6pm Mon-Sat   \n",
       "1  700 KETTNER BLVD      13177  MSPM 9 Hour Max $0.75 HR 8am-6pm Mon-Sat   \n",
       "2  700 KETTNER BLVD      13177  MSPM 9 Hour Max $0.75 HR 8am-6pm Mon-Sat   \n",
       "\n",
       "    longitude   latitude  \n",
       "0 -117.169281  32.713603  \n",
       "1 -117.169281  32.713603  \n",
       "2 -117.169281  32.713603  "
      ]
     },
     "execution_count": 28,
     "metadata": {},
     "output_type": "execute_result"
    }
   ],
   "source": [
    "df.head(3)"
   ]
  },
  {
   "cell_type": "markdown",
   "metadata": {},
   "source": [
    "If you want to pull out specific rows and columns, you can use column names, and the `.iloc[<row_number>]` function. This is like NumPy's index selection, but grabs rows, "
   ]
  },
  {
   "cell_type": "code",
   "execution_count": 29,
   "metadata": {},
   "outputs": [
    {
     "name": "stdout",
     "output_type": "stream",
     "text": [
      "Marina\n"
     ]
    }
   ],
   "source": [
    "print(df['area'].iloc[0])"
   ]
  },
  {
   "cell_type": "markdown",
   "metadata": {},
   "source": [
    "The `.loc[<row_index_name>]` pulls out rows _by index_. The index on our `DataFrame` is the row number at the moment. We're going to set it so the _id_ (it's row number in the original csv file) and use `.loc[<row_index_name>` to pull it out."
   ]
  },
  {
   "cell_type": "code",
   "execution_count": 30,
   "metadata": {},
   "outputs": [
    {
     "name": "stdout",
     "output_type": "stream",
     "text": [
      "Marina\n"
     ]
    }
   ],
   "source": [
    "print(df.set_index('id', verify_integrity=True)['area'].loc[128])"
   ]
  },
  {
   "cell_type": "markdown",
   "metadata": {},
   "source": [
    "We can also see the datatypes of each column using the `.dtypes` field. DataFrame objects support differing per-column datatypes in a smooth way (unlike NumPy matrices). For arbitrary and previously unexplored csv files, it's often good to check these to see what we're working with. \n",
    "\n",
    "Note that these are _NumPy_ datatypes. Pandas is built on top of NumPy N-d arrays, among other things."
   ]
  },
  {
   "cell_type": "code",
   "execution_count": 31,
   "metadata": {},
   "outputs": [
    {
     "name": "stdout",
     "output_type": "stream",
     "text": [
      "id                int64\n",
      "uuid             object\n",
      "pole_id          object\n",
      "meter_type       object\n",
      "trans_amt       float64\n",
      "pay_method       object\n",
      "trans_start      object\n",
      "meter_expire     object\n",
      "zone             object\n",
      "area             object\n",
      "sub_area         object\n",
      "config_id         int64\n",
      "config_name      object\n",
      "longitude       float64\n",
      "latitude        float64\n",
      "dtype: object\n"
     ]
    }
   ],
   "source": [
    "print(df.dtypes)"
   ]
  },
  {
   "cell_type": "markdown",
   "metadata": {},
   "source": [
    "Pandas contains some powerful tools for working with dates and times (such as one might use to build a time/transaction model, a short while from now...). \n",
    "\n",
    "We'll add a new column, translating the trans_start column into a `datatime64` object."
   ]
  },
  {
   "cell_type": "markdown",
   "metadata": {},
   "source": [
    "Notice that we can access `DataFrames` using their header names. In this way, `DataFrames` are like Python dictionaries of NumPy arrays. Note that this is almost what is going on under the hood, modulo a ton of features and technicalities (the [source code](https://github.com/pandas-dev/pandas/blob/master/pandas/core/frame.py) is available for some light reading).\n",
    "\n",
    "Pandas has great support for timeseries data. We're going to do some conversions from strings representing times into `datetime64` datatypes so that we can to some _time arithmetic_. We're going to add these as new columns, so that we don't disturb the original data.\n",
    "\n",
    "Note that this is another good practice. If you are going to modify types, then add columns (if your data are too big for this, consider working on a sample while you are exploring your dataset). \n",
    "\n",
    "That way you are not making modifications to the data in memory, which might break other modules and have you chasing down bugs.\n",
    "\n",
    "The Pandas `to_datetime` function will allow us to make conversions on entire columns (they are _vectorized_ already), and specifiy the format of the strings we are going to convert."
   ]
  },
  {
   "cell_type": "code",
   "execution_count": 32,
   "metadata": {},
   "outputs": [],
   "source": [
    "df['start_timestamp'] = pd.to_datetime(df['trans_start'], format='%Y-%m-%d %H:%M:%S')\n",
    "df['expire_timestamp'] = pd.to_datetime(df['meter_expire'], format='%Y-%m-%d %H:%M:%S')"
   ]
  },
  {
   "cell_type": "code",
   "execution_count": 33,
   "metadata": {},
   "outputs": [
    {
     "data": {
      "text/html": [
       "<div>\n",
       "<style scoped>\n",
       "    .dataframe tbody tr th:only-of-type {\n",
       "        vertical-align: middle;\n",
       "    }\n",
       "\n",
       "    .dataframe tbody tr th {\n",
       "        vertical-align: top;\n",
       "    }\n",
       "\n",
       "    .dataframe thead th {\n",
       "        text-align: right;\n",
       "    }\n",
       "</style>\n",
       "<table border=\"1\" class=\"dataframe\">\n",
       "  <thead>\n",
       "    <tr style=\"text-align: right;\">\n",
       "      <th></th>\n",
       "      <th>id</th>\n",
       "      <th>uuid</th>\n",
       "      <th>pole_id</th>\n",
       "      <th>meter_type</th>\n",
       "      <th>trans_amt</th>\n",
       "      <th>pay_method</th>\n",
       "      <th>trans_start</th>\n",
       "      <th>meter_expire</th>\n",
       "      <th>zone</th>\n",
       "      <th>area</th>\n",
       "      <th>sub_area</th>\n",
       "      <th>config_id</th>\n",
       "      <th>config_name</th>\n",
       "      <th>longitude</th>\n",
       "      <th>latitude</th>\n",
       "      <th>start_timestamp</th>\n",
       "      <th>expire_timestamp</th>\n",
       "    </tr>\n",
       "  </thead>\n",
       "  <tbody>\n",
       "    <tr>\n",
       "      <th>0</th>\n",
       "      <td>79</td>\n",
       "      <td>MSKT700W160101080515675</td>\n",
       "      <td>KT-700W</td>\n",
       "      <td>MS</td>\n",
       "      <td>675.0</td>\n",
       "      <td>CREDIT CARD</td>\n",
       "      <td>2016-01-01 08:05:15</td>\n",
       "      <td>2016-01-01 17:05:15</td>\n",
       "      <td>Downtown</td>\n",
       "      <td>Marina</td>\n",
       "      <td>700 KETTNER BLVD</td>\n",
       "      <td>13177</td>\n",
       "      <td>MSPM 9 Hour Max $0.75 HR 8am-6pm Mon-Sat</td>\n",
       "      <td>-117.169281</td>\n",
       "      <td>32.713603</td>\n",
       "      <td>2016-01-01 08:05:15</td>\n",
       "      <td>2016-01-01 17:05:15</td>\n",
       "    </tr>\n",
       "    <tr>\n",
       "      <th>1</th>\n",
       "      <td>119</td>\n",
       "      <td>MSKT700W160101084910675</td>\n",
       "      <td>KT-700W</td>\n",
       "      <td>MS</td>\n",
       "      <td>675.0</td>\n",
       "      <td>CREDIT CARD</td>\n",
       "      <td>2016-01-01 08:49:10</td>\n",
       "      <td>2016-01-01 17:49:10</td>\n",
       "      <td>Downtown</td>\n",
       "      <td>Marina</td>\n",
       "      <td>700 KETTNER BLVD</td>\n",
       "      <td>13177</td>\n",
       "      <td>MSPM 9 Hour Max $0.75 HR 8am-6pm Mon-Sat</td>\n",
       "      <td>-117.169281</td>\n",
       "      <td>32.713603</td>\n",
       "      <td>2016-01-01 08:49:10</td>\n",
       "      <td>2016-01-01 17:49:10</td>\n",
       "    </tr>\n",
       "    <tr>\n",
       "      <th>2</th>\n",
       "      <td>128</td>\n",
       "      <td>MSKT700W160101085540675</td>\n",
       "      <td>KT-700W</td>\n",
       "      <td>MS</td>\n",
       "      <td>675.0</td>\n",
       "      <td>CREDIT CARD</td>\n",
       "      <td>2016-01-01 08:55:40</td>\n",
       "      <td>2016-01-01 17:55:40</td>\n",
       "      <td>Downtown</td>\n",
       "      <td>Marina</td>\n",
       "      <td>700 KETTNER BLVD</td>\n",
       "      <td>13177</td>\n",
       "      <td>MSPM 9 Hour Max $0.75 HR 8am-6pm Mon-Sat</td>\n",
       "      <td>-117.169281</td>\n",
       "      <td>32.713603</td>\n",
       "      <td>2016-01-01 08:55:40</td>\n",
       "      <td>2016-01-01 17:55:40</td>\n",
       "    </tr>\n",
       "  </tbody>\n",
       "</table>\n",
       "</div>"
      ],
      "text/plain": [
       "    id                     uuid  pole_id meter_type  trans_amt   pay_method  \\\n",
       "0   79  MSKT700W160101080515675  KT-700W         MS      675.0  CREDIT CARD   \n",
       "1  119  MSKT700W160101084910675  KT-700W         MS      675.0  CREDIT CARD   \n",
       "2  128  MSKT700W160101085540675  KT-700W         MS      675.0  CREDIT CARD   \n",
       "\n",
       "           trans_start         meter_expire      zone    area  \\\n",
       "0  2016-01-01 08:05:15  2016-01-01 17:05:15  Downtown  Marina   \n",
       "1  2016-01-01 08:49:10  2016-01-01 17:49:10  Downtown  Marina   \n",
       "2  2016-01-01 08:55:40  2016-01-01 17:55:40  Downtown  Marina   \n",
       "\n",
       "           sub_area  config_id                               config_name  \\\n",
       "0  700 KETTNER BLVD      13177  MSPM 9 Hour Max $0.75 HR 8am-6pm Mon-Sat   \n",
       "1  700 KETTNER BLVD      13177  MSPM 9 Hour Max $0.75 HR 8am-6pm Mon-Sat   \n",
       "2  700 KETTNER BLVD      13177  MSPM 9 Hour Max $0.75 HR 8am-6pm Mon-Sat   \n",
       "\n",
       "    longitude   latitude     start_timestamp    expire_timestamp  \n",
       "0 -117.169281  32.713603 2016-01-01 08:05:15 2016-01-01 17:05:15  \n",
       "1 -117.169281  32.713603 2016-01-01 08:49:10 2016-01-01 17:49:10  \n",
       "2 -117.169281  32.713603 2016-01-01 08:55:40 2016-01-01 17:55:40  "
      ]
     },
     "execution_count": 33,
     "metadata": {},
     "output_type": "execute_result"
    }
   ],
   "source": [
    "df.head(3)"
   ]
  },
  {
   "cell_type": "markdown",
   "metadata": {},
   "source": [
    "We're going to make two more columns out of our timestamps by pulling out the _hour_ [0,23] and _minute_ [0,59] fields of the `datetime` objects. I'm using the `.apply()` function, which works almost just like `vectorize` in NumPy, but you call it directly on the DataFrame."
   ]
  },
  {
   "cell_type": "code",
   "execution_count": 35,
   "metadata": {},
   "outputs": [
    {
     "data": {
      "text/html": [
       "<div>\n",
       "<style scoped>\n",
       "    .dataframe tbody tr th:only-of-type {\n",
       "        vertical-align: middle;\n",
       "    }\n",
       "\n",
       "    .dataframe tbody tr th {\n",
       "        vertical-align: top;\n",
       "    }\n",
       "\n",
       "    .dataframe thead th {\n",
       "        text-align: right;\n",
       "    }\n",
       "</style>\n",
       "<table border=\"1\" class=\"dataframe\">\n",
       "  <thead>\n",
       "    <tr style=\"text-align: right;\">\n",
       "      <th></th>\n",
       "      <th>id</th>\n",
       "      <th>uuid</th>\n",
       "      <th>pole_id</th>\n",
       "      <th>meter_type</th>\n",
       "      <th>trans_amt</th>\n",
       "      <th>pay_method</th>\n",
       "      <th>trans_start</th>\n",
       "      <th>meter_expire</th>\n",
       "      <th>zone</th>\n",
       "      <th>area</th>\n",
       "      <th>sub_area</th>\n",
       "      <th>config_id</th>\n",
       "      <th>config_name</th>\n",
       "      <th>longitude</th>\n",
       "      <th>latitude</th>\n",
       "      <th>start_timestamp</th>\n",
       "      <th>expire_timestamp</th>\n",
       "      <th>start_hour</th>\n",
       "      <th>start_minute</th>\n",
       "      <th>start_month</th>\n",
       "    </tr>\n",
       "  </thead>\n",
       "  <tbody>\n",
       "    <tr>\n",
       "      <th>478135</th>\n",
       "      <td>10109593</td>\n",
       "      <td>MSWB500N161231164002175</td>\n",
       "      <td>WB-500N</td>\n",
       "      <td>MS</td>\n",
       "      <td>175.0</td>\n",
       "      <td>CREDIT CARD</td>\n",
       "      <td>2016-12-31 16:40:02</td>\n",
       "      <td>2016-12-31 18:00:00</td>\n",
       "      <td>Downtown</td>\n",
       "      <td>Core - Columbia</td>\n",
       "      <td>500 WEST B ST</td>\n",
       "      <td>13180</td>\n",
       "      <td>MSPM 2 Hour Max $1.25 HR 8am-6pm Mon-Sat</td>\n",
       "      <td>-117.167937</td>\n",
       "      <td>32.717679</td>\n",
       "      <td>2016-12-31 16:40:02</td>\n",
       "      <td>2016-12-31 18:00:00</td>\n",
       "      <td>16</td>\n",
       "      <td>40</td>\n",
       "      <td>12</td>\n",
       "    </tr>\n",
       "    <tr>\n",
       "      <th>478136</th>\n",
       "      <td>10109837</td>\n",
       "      <td>MSWB500N161231164619175</td>\n",
       "      <td>WB-500N</td>\n",
       "      <td>MS</td>\n",
       "      <td>175.0</td>\n",
       "      <td>CREDIT CARD</td>\n",
       "      <td>2016-12-31 16:46:19</td>\n",
       "      <td>2016-12-31 18:00:00</td>\n",
       "      <td>Downtown</td>\n",
       "      <td>Core - Columbia</td>\n",
       "      <td>500 WEST B ST</td>\n",
       "      <td>13180</td>\n",
       "      <td>MSPM 2 Hour Max $1.25 HR 8am-6pm Mon-Sat</td>\n",
       "      <td>-117.167937</td>\n",
       "      <td>32.717679</td>\n",
       "      <td>2016-12-31 16:46:19</td>\n",
       "      <td>2016-12-31 18:00:00</td>\n",
       "      <td>16</td>\n",
       "      <td>46</td>\n",
       "      <td>12</td>\n",
       "    </tr>\n",
       "    <tr>\n",
       "      <th>478137</th>\n",
       "      <td>10111220</td>\n",
       "      <td>MSWB500N16123117301675</td>\n",
       "      <td>WB-500N</td>\n",
       "      <td>MS</td>\n",
       "      <td>75.0</td>\n",
       "      <td>CREDIT CARD</td>\n",
       "      <td>2016-12-31 17:30:16</td>\n",
       "      <td>2016-12-31 18:00:00</td>\n",
       "      <td>Downtown</td>\n",
       "      <td>Core - Columbia</td>\n",
       "      <td>500 WEST B ST</td>\n",
       "      <td>13180</td>\n",
       "      <td>MSPM 2 Hour Max $1.25 HR 8am-6pm Mon-Sat</td>\n",
       "      <td>-117.167937</td>\n",
       "      <td>32.717679</td>\n",
       "      <td>2016-12-31 17:30:16</td>\n",
       "      <td>2016-12-31 18:00:00</td>\n",
       "      <td>17</td>\n",
       "      <td>30</td>\n",
       "      <td>12</td>\n",
       "    </tr>\n",
       "  </tbody>\n",
       "</table>\n",
       "</div>"
      ],
      "text/plain": [
       "              id                     uuid  pole_id meter_type  trans_amt  \\\n",
       "478135  10109593  MSWB500N161231164002175  WB-500N         MS      175.0   \n",
       "478136  10109837  MSWB500N161231164619175  WB-500N         MS      175.0   \n",
       "478137  10111220   MSWB500N16123117301675  WB-500N         MS       75.0   \n",
       "\n",
       "         pay_method          trans_start         meter_expire      zone  \\\n",
       "478135  CREDIT CARD  2016-12-31 16:40:02  2016-12-31 18:00:00  Downtown   \n",
       "478136  CREDIT CARD  2016-12-31 16:46:19  2016-12-31 18:00:00  Downtown   \n",
       "478137  CREDIT CARD  2016-12-31 17:30:16  2016-12-31 18:00:00  Downtown   \n",
       "\n",
       "                   area       sub_area  config_id  \\\n",
       "478135  Core - Columbia  500 WEST B ST      13180   \n",
       "478136  Core - Columbia  500 WEST B ST      13180   \n",
       "478137  Core - Columbia  500 WEST B ST      13180   \n",
       "\n",
       "                                     config_name   longitude   latitude  \\\n",
       "478135  MSPM 2 Hour Max $1.25 HR 8am-6pm Mon-Sat -117.167937  32.717679   \n",
       "478136  MSPM 2 Hour Max $1.25 HR 8am-6pm Mon-Sat -117.167937  32.717679   \n",
       "478137  MSPM 2 Hour Max $1.25 HR 8am-6pm Mon-Sat -117.167937  32.717679   \n",
       "\n",
       "           start_timestamp    expire_timestamp  start_hour  start_minute  \\\n",
       "478135 2016-12-31 16:40:02 2016-12-31 18:00:00          16            40   \n",
       "478136 2016-12-31 16:46:19 2016-12-31 18:00:00          16            46   \n",
       "478137 2016-12-31 17:30:16 2016-12-31 18:00:00          17            30   \n",
       "\n",
       "        start_month  \n",
       "478135           12  \n",
       "478136           12  \n",
       "478137           12  "
      ]
     },
     "execution_count": 35,
     "metadata": {},
     "output_type": "execute_result"
    }
   ],
   "source": [
    "df.tail(3)"
   ]
  },
  {
   "cell_type": "code",
   "execution_count": 34,
   "metadata": {},
   "outputs": [],
   "source": [
    "df['start_hour'] = df['start_timestamp'].apply(lambda x: x.hour)\n",
    "df['start_minute'] = df['start_timestamp'].apply(lambda x: x.minute)\n",
    "df['start_month'] = df['start_timestamp'].apply(lambda x: x.month)"
   ]
  },
  {
   "cell_type": "code",
   "execution_count": 42,
   "metadata": {},
   "outputs": [
    {
     "data": {
      "image/png": "[encoded data removed]",
      "text/plain": [
       "<Figure size 432x288 with 1 Axes>"
      ]
     },
     "metadata": {},
     "output_type": "display_data"
    }
   ],
   "source": [
    "df['start_month'].hist(bins=12, width=.5)\n",
    "plt.show()"
   ]
  },
  {
   "cell_type": "markdown",
   "metadata": {},
   "source": [
    "Each transaction has paticular _features_ that we can use to say whether the transactions are similar. \n",
    "\n",
    "For example, a transaction is (almost) uniquely defined by its start time, expiration time, and location. A transaction that is \"nearby\" might have a few of those things in common. We can be very flexible in our definition of what _close_ means. \n",
    "\n",
    "Keeping that in mind, creative ideas of distance are some of the most powerful tools in our data toolbox.\n",
    "\n",
    "Let's do some (very basic) _feature engineering_ and add a _duration_ column to our DataFrame."
   ]
  },
  {
   "cell_type": "code",
   "execution_count": 36,
   "metadata": {},
   "outputs": [
    {
     "name": "stdout",
     "output_type": "stream",
     "text": [
      "id                           int64\n",
      "uuid                        object\n",
      "pole_id                     object\n",
      "meter_type                  object\n",
      "trans_amt                  float64\n",
      "pay_method                  object\n",
      "trans_start                 object\n",
      "meter_expire                object\n",
      "zone                        object\n",
      "area                        object\n",
      "sub_area                    object\n",
      "config_id                    int64\n",
      "config_name                 object\n",
      "longitude                  float64\n",
      "latitude                   float64\n",
      "start_timestamp     datetime64[ns]\n",
      "expire_timestamp    datetime64[ns]\n",
      "start_hour                   int64\n",
      "start_minute                 int64\n",
      "start_month                  int64\n",
      "duration                   float64\n",
      "dtype: object\n"
     ]
    }
   ],
   "source": [
    "# Here's some of that \"time arithmetic\" I mentioned.\n",
    "durations = df['expire_timestamp'] - df['start_timestamp']\n",
    "# I'm going to add \"duration\" so that it is a floating point number\n",
    "# and digits before the decimal point are hours.\n",
    "df['duration'] = durations.apply(lambda x:x.seconds/60**2)\n",
    "\n",
    "print(df.dtypes)"
   ]
  },
  {
   "cell_type": "markdown",
   "metadata": {},
   "source": [
    "## Creating a really simple hour/transaction model\n",
    "\n",
    "Building statistical models is a core activity in statistics, and its progeny, data science, and machine learning. So when I say \"model\" what I mean is a function of data that allows me to make statements that are _predictive_ of other data, and (sometimes) allows us to say something about likely relationships between variables.\n",
    "\n",
    "In the next cell I've built a function that we're going to use a few times.\n",
    "\n",
    "What we're doing in this function is building two histograms (a _joint_ histogram), and plotting them.\n",
    "\n",
    "This may look like a big blob (a lot of plotting code looks like this) but we'll take it a step at a time."
   ]
  },
  {
   "cell_type": "code",
   "execution_count": 37,
   "metadata": {
    "scrolled": false
   },
   "outputs": [],
   "source": [
    "# Matplotlib is the library that the Pandas plotting tools use. They are well-integrated.\n",
    "import matplotlib.pyplot as plt\n",
    "\n",
    "def show_hist(counts, durations, countsMonth):\n",
    "    '''\n",
    "    This plots transaction time and duration histograms\n",
    "    counts is a series of transaction counts, indexed by hour\n",
    "    durations is a series of average durations, also indexed by hour\n",
    "    ''' \n",
    "    # Because we want to align our axes, we're going to grab the indices\n",
    "    hr = durations.index.values\n",
    "    # Hours are in the range [0,23], but transactions don't exist for all of them\n",
    "    # So we pull out the minimum as an offset for plotting (so we don't end up with blank space)\n",
    "    offset = np.min(hr)\n",
    "    hroff = hr - offset\n",
    "    \n",
    "    # We're going to use 12-plus-12 instead of 24 as our hour-of-day format\n",
    "    labels = (hr-1)%12+1\n",
    "\n",
    "    # Next is a matplotlib function that allows us to make a \"grid\" of plots\n",
    "    fig, axes = plt.subplots(nrows=3, ncols=1, figsize=plt.figaspect(1.2), sharex=True)\n",
    "    \n",
    "    # I often set dpi myself, so that I can control the resolution for more detailed plots\n",
    "    fig.set_dpi(100)\n",
    "\n",
    "    # Now for the actual plotting.\n",
    "    # Pandas lets us call '.plot(...)' function directly on DataFrame and Series objects\n",
    "    # I'm going to explicitly set some things here (particularly the `axes[0]` is important for the grid), \n",
    "    # but you can also use automatic settings\n",
    "    # Matplotlib plots have a very large number of options\n",
    "    counts.plot(kind='bar', align='edge', width=.2, ax=axes[0])\n",
    "    # Some properties of the axis\n",
    "    axes[0].grid(linestyle=':')\n",
    "    axes[0].set_xlabel('Hour of Day')\n",
    "    axes[0].set_ylabel('Count')\n",
    "    axes[0].set_title('Transaction Count by Hour (2016)')\n",
    "\n",
    "    # Additional plotting for the second axis. \n",
    "    # This time I'm rotating the plot and setting the alginment to `hroff` \n",
    "    # so that we have an intuitive alignment.\n",
    "    durations.plot(kind='barh', align='edge', width=.5, left=hroff, ax=axes[1])\n",
    "\n",
    "    axes[1].set_xticks(hroff)\n",
    "    axes[1].set_yticklabels(labels)\n",
    "    axes[1].set_xticklabels(labels)\n",
    "\n",
    "    axes[1].grid(linestyle=':')\n",
    "    axes[1].set_xlabel('Hour of Day')\n",
    "    axes[1].set_ylabel('Hour of Day')\n",
    "    axes[1].set_title('Average Duration Windows (2016)')\n",
    "    \n",
    "    countsMonth.plot(kind='bar', align='edge', width=.2, ax=axes[0])\n",
    "    # Some properties of the axis\n",
    "    axes[2].grid(linestyle=':')\n",
    "    axes[2].set_xlabel('Month')\n",
    "    axes[2].set_ylabel('Count')\n",
    "    axes[2].set_title('Transaction Count by Month (2016)')\n",
    "\n",
    "    plt.tight_layout()\n",
    "    plt.show()"
   ]
  },
  {
   "cell_type": "markdown",
   "metadata": {},
   "source": [
    "Next, we want to gather up the summary statistics that we need for the plot. These are counts and average durations.\n",
    "\n",
    "Pandas lets us do this with the `.groupby()` function, where `.groupby(<column_name>)` will create _groups_ of row indices such that the value of `<column_name>` for each group is unique, then we can call _aggregation_ funcitons on them. Note that `.groupby()` has a lot of functionality (as always, take a look at the [docs and tutorials](https://pandas.pydata.org/pandas-docs/stable/tutorials.html) for details, the cookbook is great for examples as well)."
   ]
  },
  {
   "cell_type": "code",
   "execution_count": 38,
   "metadata": {},
   "outputs": [
    {
     "data": {
      "image/png": "[encoded data removed]",
      "text/plain": [
       "<Figure size 400x480 with 3 Axes>"
      ]
     },
     "metadata": {},
     "output_type": "display_data"
    }
   ],
   "source": [
    "dfCount = df.groupby('start_hour')['uuid'].count()\n",
    "dfDuration = df.groupby('start_hour')['duration'].mean()\n",
    "dfCountMonth = df.groupby('start_month')['duration'].count()\n",
    "\n",
    "# Calling our plotting function\n",
    "show_hist(dfCount, dfDuration, dfCountMonth)"
   ]
  },
  {
   "cell_type": "markdown",
   "metadata": {},
   "source": [
    "Now we're looking at an overall histogram of the number of hourly transactions (the \"transaction rate\"), and we can see that, on average, people who arrive at 6 am are staying until lunch. \n",
    "\n",
    "So, we should be able to make predictions based off this regarding demand and availability, right, _right_?\n",
    "\n",
    "Unfortunately, it is not so simple."
   ]
  },
  {
   "cell_type": "markdown",
   "metadata": {},
   "source": [
    "# Bias/Variance Example and Discussion"
   ]
  },
  {
   "cell_type": "markdown",
   "metadata": {},
   "source": [
    "Just because we see something doesn't mean other things we see will be the same, and just because we have constructed a model from data doesn't mean new/other data will be predicted by the model.\n",
    "\n",
    "#### Often, we have to make a trade-off between a modeling approach that has  capability of fitting our data really well, but performs poorly on other data (i.e. the model is overfit to the data), and a model that generalizes, to other data but \"equally poorly\", but is more consistent overall.\n",
    "\n",
    "#### That is, between the upper right and lower left targets in the image below.\n",
    "<img src=\"bias_variance.png\" alt=\"Bias/Variance\" style=\"width: 400px\"/>\n",
    "Image sourced from [Scott Fortmann-Roe's essay](http://scott.fortmann-roe.com/docs/BiasVariance.html) on the subject. A recommended read! One thing I will emphasize that he mentions only briefly is that the Bias-Variance decomposition he's using applies to models built using least squares cost functions (Gaussian maximum likelihood for example). This is quite general, so not to worry,  but it's also good to keep an eye on assumptions.\n",
    "\n",
    "In addition to a model with a lot of _free parameters_ having the possiblity of overfitting data, it is also possible to _underfit_ which is to say, not use a model that is adaptable enough."
   ]
  },
  {
   "cell_type": "markdown",
   "metadata": {},
   "source": [
    "### As it turns out, our histogram is highly biased. \n",
    "\n",
    "Let's take a look at the data from _just one_ meter. Notice here that we're using _logical indexing_ to select the meter. It works in Pandas just like it does in NumPy.\n",
    "\n",
    "In the example below, we can see that this histogram is \"flipped\"."
   ]
  },
  {
   "cell_type": "code",
   "execution_count": 39,
   "metadata": {},
   "outputs": [
    {
     "name": "stdout",
     "output_type": "stream",
     "text": [
      "===== KT-700W =====\n"
     ]
    },
    {
     "ename": "TypeError",
     "evalue": "show_hist() missing 1 required positional argument: 'countsMonth'",
     "output_type": "error",
     "traceback": [
      "\u001b[0;31m---------------------------------------------------------------------------\u001b[0m",
      "\u001b[0;31mTypeError\u001b[0m                                 Traceback (most recent call last)",
      "\u001b[0;32m<ipython-input-39-4b2fc951a8cc>\u001b[0m in \u001b[0;36m<module>\u001b[0;34m()\u001b[0m\n\u001b[1;32m      4\u001b[0m \u001b[0;34m\u001b[0m\u001b[0m\n\u001b[1;32m      5\u001b[0m \u001b[0mprint\u001b[0m\u001b[0;34m(\u001b[0m\u001b[0;34m'===== '\u001b[0m \u001b[0;34m+\u001b[0m \u001b[0mpoleId0\u001b[0m \u001b[0;34m+\u001b[0m \u001b[0;34m' ====='\u001b[0m\u001b[0;34m)\u001b[0m\u001b[0;34m\u001b[0m\u001b[0m\n\u001b[0;32m----> 6\u001b[0;31m \u001b[0mshow_hist\u001b[0m\u001b[0;34m(\u001b[0m\u001b[0mdfCountP0\u001b[0m\u001b[0;34m,\u001b[0m \u001b[0mdfDurationP0\u001b[0m\u001b[0;34m)\u001b[0m\u001b[0;34m\u001b[0m\u001b[0m\n\u001b[0m\u001b[1;32m      7\u001b[0m \u001b[0;34m\u001b[0m\u001b[0m\n\u001b[1;32m      8\u001b[0m \u001b[0;31m# Show the overall histograms for comparison\u001b[0m\u001b[0;34m\u001b[0m\u001b[0;34m\u001b[0m\u001b[0m\n",
      "\u001b[0;31mTypeError\u001b[0m: show_hist() missing 1 required positional argument: 'countsMonth'"
     ]
    }
   ],
   "source": [
    "poleId0 = 'KT-700W'\n",
    "dfCountP0 = df[df['pole_id'] == poleId0].groupby('start_hour')['uuid'].count()\n",
    "dfDurationP0 = df[df['pole_id'] == poleId0].groupby('start_hour')['duration'].mean()\n",
    "\n",
    "print('===== ' + poleId0 + ' =====')\n",
    "show_hist(dfCountP0, dfDurationP0)\n",
    "\n",
    "# Show the overall histograms for comparison\n",
    "print('===== Overall =====')\n",
    "show_hist(dfCount, dfDuration)"
   ]
  },
  {
   "cell_type": "markdown",
   "metadata": {},
   "source": [
    "## Detective work ensues\n",
    "#### We can do a bit of visualization, both explore the data further, and determine if the bias has a particular source.\n",
    "\n",
    "We'll use a coarse-grained heatmap called a _hexbin plot_ to look at these data geographically.\n",
    "\n",
    "For now, we won't use maps. Considering the source of your data is often critical for analysis, but we're taking the didactic route, and we don't need the technicalities of working with maps distracting us at the moment."
   ]
  },
  {
   "cell_type": "code",
   "execution_count": null,
   "metadata": {},
   "outputs": [],
   "source": [
    "# The default mode for hexbin is to count the number of instances\n",
    "# This means we can just feed it lat/long pairs and it will do what we want.\n",
    "\n",
    "# I'll want to use these parameters more than once, so I'm going to use a keyword dictionary\n",
    "hexbinParams = {'kind':'hexbin', 'gridsize':[15,20], \n",
    "                'x':'longitude', 'y':'latitude', \n",
    "                'cmap':'viridis', 'sharex':False, \n",
    "                'figsize':plt.figaspect(1.5)}\n",
    "\n",
    "ax = df.plot(**hexbinParams)\n",
    "\n",
    "ax.figure.set_dpi(120)\n",
    "# If we don't rotate the axis labels they get a bit jumbled here\n",
    "for x in  ax.get_xticklabels():\n",
    "    x.set_rotation(30)\n",
    "\n",
    "plt.show()"
   ]
  },
  {
   "cell_type": "markdown",
   "metadata": {},
   "source": [
    "It turns out that this is Roma Urban Market, and Joseph's Men's Wear. \n",
    "\n",
    "We knew it was you two all along...\n",
    "\n",
    "But the question remains, how do we construct our model _robustly_.\n",
    "\n",
    "Let's look at an estimate of the _quantile function_ of counts by `pole_id`. Quantiles are the values of data set (or probability distribution) such that, for random variable $X$, $$Q(p) := \\mbox{argmin}_x \\vert \\Pr(X \\leq x) - p \\vert$$\n",
    "\n",
    "For example, the median is $Q(0.5)$, and the maximum and minimum are $Q(1.0)$ and $Q(0.0)$ resepectively."
   ]
  },
  {
   "cell_type": "code",
   "execution_count": null,
   "metadata": {
    "scrolled": false
   },
   "outputs": [],
   "source": [
    "dfCountByPole = df.groupby('pole_id')['uuid'].count()\n",
    "ax = dfCountByPole.quantile(np.linspace(0,1,100)).plot()\n",
    "\n",
    "ax.set_title('Quantiles of Transaction Count by Pole')\n",
    "ax.set_ylabel('Transaction Count')\n",
    "ax.set_xlabel('Pole Quantile')\n",
    "plt.show()"
   ]
  },
  {
   "cell_type": "markdown",
   "metadata": {},
   "source": [
    "On each end there are a few values that are biasing the results. We could call them outliers, but we'd need to know more about the overall character of the data.\n",
    "\n",
    "One way of dealing with this situation is [_Trimming_](https://en.wikipedia.org/wiki/Trimmed_estimator), which does exactly what you'd expect. We're going to use an [L-estimator](https://en.wikipedia.org/wiki/L-estimator) called _inter-quartile range_ (IQR) to decide which poles to use for our model. Poles outside the range we will not include in the histograms (yet). \n",
    "\n",
    "Aggressive, I know, but in this circumstance building a more complex interpolated (or piecewise) model might be warranted, and I'd like a feel for what the \"center of mass\" looks like for these data."
   ]
  },
  {
   "cell_type": "code",
   "execution_count": null,
   "metadata": {},
   "outputs": [],
   "source": [
    "# Select the poles with transaction counts \n",
    "numPoles = dfCountByPole.shape[0]\n",
    "\n",
    "# We're going to trim to the IQR,\n",
    "# so let's compute high and low numeric indices of the range\n",
    "# in a sorted count-by-pole series\n",
    "hiIdx = int(0.75*numPoles)\n",
    "loIdx = int(0.25*numPoles)\n",
    "\n",
    "# Pull out the poles to keep. This is easy for quantiles\n",
    "polesToKeep = dfCountByPole.sort_values().index[loIdx:hiIdx]\n",
    "\n",
    "# The `.isin()` function is perfect for what we want to do.\n",
    "# This is a more complex form of logical indexing that is working on multiple criteria.\n",
    "dfInIqr = df[df['pole_id'].isin(polesToKeep)]\n",
    "\n",
    "# We're going to look at a plot of the quantiles, like we did before\n",
    "ax = dfInIqr.groupby('pole_id')['uuid'].count().quantile(np.linspace(0,1,100)).plot()\n",
    "\n",
    "# More plotting code, we have to fix the x-axis \n",
    "# because we just trimmed quantiles in the range [0,.25] and [.75,1] \n",
    "ax.set_xticklabels(np.linspace(.25,.75,6))\n",
    "ax.set_title('Quantiles of Transaction Count by Pole')\n",
    "ax.set_ylabel('Transaction Count')\n",
    "ax.set_xlabel('Pole Quantile')\n",
    "plt.show()"
   ]
  },
  {
   "cell_type": "markdown",
   "metadata": {},
   "source": [
    "Let's see what the spatial hexbin looks like now..."
   ]
  },
  {
   "cell_type": "code",
   "execution_count": null,
   "metadata": {},
   "outputs": [],
   "source": [
    "ax = dfInIqr.plot(**hexbinParams)\n",
    "ax.figure.set_dpi(120)\n",
    "for x in  ax.get_xticklabels():\n",
    "    x.set_rotation(30)\n",
    "plt.show()"
   ]
  },
  {
   "cell_type": "markdown",
   "metadata": {},
   "source": [
    "Let's take a look at our histograms again"
   ]
  },
  {
   "cell_type": "code",
   "execution_count": null,
   "metadata": {},
   "outputs": [],
   "source": [
    "dfCountInIqr = dfInIqr.groupby('start_hour')['uuid'].count()\n",
    "dfDurationInIqr = dfInIqr.groupby('start_hour')['duration'].mean()\n",
    "\n",
    "show_hist(dfCountInIqr, dfDurationInIqr)"
   ]
  },
  {
   "cell_type": "markdown",
   "metadata": {},
   "source": [
    "Surprise! It looks like \"6 am-ers always stay until noon\" was also due to skew!"
   ]
  },
  {
   "cell_type": "code",
   "execution_count": null,
   "metadata": {},
   "outputs": [],
   "source": []
  }
 ],
 "metadata": {
  "kernelspec": {
   "display_name": "Python 3",
   "language": "python",
   "name": "python3"
  },
  "language_info": {
   "codemirror_mode": {
    "name": "ipython",
    "version": 3
   },
   "file_extension": ".py",
   "mimetype": "text/x-python",
   "name": "python",
   "nbconvert_exporter": "python",
   "pygments_lexer": "ipython3",
   "version": "3.6.5"
  }
 },
 "nbformat": 4,
 "nbformat_minor": 2
}
